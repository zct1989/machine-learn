{
 "metadata": {
  "language_info": {
   "codemirror_mode": {
    "name": "ipython",
    "version": 3
   },
   "file_extension": ".py",
   "mimetype": "text/x-python",
   "name": "python",
   "nbconvert_exporter": "python",
   "pygments_lexer": "ipython3",
   "version": "3.9.2"
  },
  "orig_nbformat": 2,
  "kernelspec": {
   "name": "python392jvsc74a57bd0c0dc2ac4222f3daecd0092c248cad4a0c21f866aec9631b539985bb4e6097f4c",
   "display_name": "Python 3.9.2 64-bit ('study-env': conda)"
  }
 },
 "nbformat": 4,
 "nbformat_minor": 2,
 "cells": [
  {
   "cell_type": "code",
   "execution_count": 1,
   "metadata": {},
   "outputs": [],
   "source": [
    "# 导入标准库\n",
    "import numpy as np\n",
    "import matplotlib.pyplot as plt\n",
    "import pandas as pd"
   ]
  },
  {
   "cell_type": "code",
   "execution_count": 2,
   "metadata": {},
   "outputs": [],
   "source": [
    "# 导入数据集\n",
    "dataset = pd.read_csv('./Data.csv')\n",
    "# 分离自变量,因变量\n",
    "X = dataset.iloc[:,:-1].values\n",
    "Y = dataset.iloc[:,3].values"
   ]
  },
  {
   "cell_type": "code",
   "execution_count": 4,
   "metadata": {},
   "outputs": [],
   "source": [
    "# 处理分类数据,标签\n",
    "# 虚拟编码\n",
    "from sklearn.preprocessing import LabelEncoder,OneHotEncoder\n",
    "from sklearn.compose import ColumnTransformer\n",
    "\n",
    "# 分类编码转换\n",
    "ct = ColumnTransformer([(\"encoder\", OneHotEncoder(), [0])], remainder = 'passthrough')\n",
    "X = ct.fit_transform(X)\n",
    "\n",
    "\n",
    "# 标签编码转换\n",
    "labelEncoder_Y = LabelEncoder()\n",
    "Y = labelEncoder_Y.fit_transform(Y)\n"
   ]
  },
  {
   "cell_type": "code",
   "execution_count": 5,
   "metadata": {},
   "outputs": [],
   "source": [
    "# 处理空数据\n",
    "# 取当前列平均值来补充空数据\n",
    "# mean   平均值\n",
    "# median 中位数\n",
    "# most_frequent 出现频次最高\n",
    "# constant 使用fill_value填充\n",
    "from sklearn.impute import SimpleImputer\n",
    "imputer = SimpleImputer(missing_values=np.nan,strategy='mean')\n",
    "X[:,1:3] = imputer.fit_transform(X[:,1:3])\n"
   ]
  },
  {
   "cell_type": "code",
   "execution_count": 6,
   "metadata": {},
   "outputs": [],
   "source": [
    "# 特征缩放\n",
    "# 将不同数量级的数据缩放到同一个数量级\n",
    "from sklearn.preprocessing import StandardScaler\n",
    "\n",
    "sc_X  = StandardScaler()\n",
    "\n",
    "X = sc_X.fit_transform(X)"
   ]
  },
  {
   "cell_type": "code",
   "execution_count": 7,
   "metadata": {},
   "outputs": [],
   "source": [
    "# 划分训练集与测试集\n",
    "from sklearn.model_selection import train_test_split\n",
    "# 训练集 > 测试集 结果 -> 过度拟合\n",
    "X_train,X_text,Y_train,Y_test = train_test_split(X,Y,test_size=0.2,random_state=0)"
   ]
  }
 ]
}